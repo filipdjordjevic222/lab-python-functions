{
 "cells": [
  {
   "cell_type": "markdown",
   "id": "25d7736c-ba17-4aff-b6bb-66eba20fbf4e",
   "metadata": {
    "editable": true,
    "slideshow": {
     "slide_type": ""
    },
    "tags": []
   },
   "source": [
    "# Lab | Functions"
   ]
  },
  {
   "cell_type": "markdown",
   "id": "0c581062-8967-4d93-b06e-62833222f930",
   "metadata": {
    "tags": []
   },
   "source": [
    "## Exercise: Managing Customer Orders with Functions\n",
    "\n",
    "In the previous exercise, you improved the code for managing customer orders by using loops and flow control. Now, let's take it a step further and refactor the code by introducing functions.\n",
    "\n",
    "Follow the steps below to complete the exercise:\n",
    "\n",
    "1. Define a function named `initialize_inventory` that takes `products` as a parameter. Inside the function, implement the code for initializing the inventory dictionary using a loop and user input.\n",
    "\n",
    "2. Define a function named `get_customer_orders` that takes no parameters. Inside the function, implement the code for prompting the user to enter the product names using a loop. The function should return the `customer_orders` set.\n",
    "\n",
    "3. Define a function named `update_inventory` that takes `customer_orders` and `inventory` as parameters. Inside the function, implement the code for updating the inventory dictionary based on the customer orders.\n",
    "\n",
    "4. Define a function named `calculate_order_statistics` that takes `customer_orders` and `products` as parameters. Inside the function, implement the code for calculating the order statistics (total products ordered, and percentage of unique products ordered). The function should return these values.\n",
    "\n",
    "5. Define a function named `print_order_statistics` that takes `order_statistics` as a parameter. Inside the function, implement the code for printing the order statistics.\n",
    "\n",
    "6. Define a function named `print_updated_inventory` that takes `inventory` as a parameter. Inside the function, implement the code for printing the updated inventory.\n",
    "\n",
    "7. Call the functions in the appropriate sequence to execute the program and manage customer orders.\n",
    "\n",
    "Hints for functions:\n",
    "\n",
    "- Consider the input parameters required for each function and their return values.\n",
    "- Utilize function parameters and return values to transfer data between functions.\n",
    "- Test your functions individually to ensure they work correctly.\n",
    "\n",
    "\n"
   ]
  },
  {
   "cell_type": "code",
   "execution_count": 154,
   "id": "a143442a-8653-4b20-9ce4-5b17c5ba0e96",
   "metadata": {},
   "outputs": [],
   "source": [
    "products = [\"t-shirt\", \"mug\", \"hat\", \"book\", \"keychain\"]\n"
   ]
  },
  {
   "cell_type": "code",
   "execution_count": 156,
   "id": "822841de-329a-4bf6-80eb-ad33c96e04c6",
   "metadata": {},
   "outputs": [
    {
     "name": "stdin",
     "output_type": "stream",
     "text": [
      "Enter quantity of the t-shirt:  1\n",
      "Enter quantity of the mug:  11\n",
      "Enter quantity of the hat:  1\n",
      "Enter quantity of the book:  1\n",
      "Enter quantity of the keychain:  1\n"
     ]
    },
    {
     "name": "stdout",
     "output_type": "stream",
     "text": [
      "{'t-shirt': 1, 'mug': 11, 'hat': 1, 'book': 1, 'keychain': 1}\n"
     ]
    }
   ],
   "source": [
    "def initialize_inventory(products):\n",
    "    inventory = {}\n",
    "    #fuction inside using loop and user input(dict)\n",
    "    for product in products:\n",
    "        quantity = input(f\"Enter quantity of the {product}: \")\n",
    "                \n",
    "        while not quantity.isdigit():#validate input\n",
    "            print(\"Please enter a valid number\")\n",
    "            quantity = input(f\"Enter the quantity once again for one of the {products}: \")\n",
    "            \n",
    "        inventory [product] = int (quantity)#convert to int and add to inventory\n",
    "    return inventory \n",
    "\n",
    "inventory = initialize_inventory(products)\n",
    "print(inventory)\n"
   ]
  },
  {
   "cell_type": "code",
   "execution_count": 158,
   "id": "3f2eeaa1-e7c2-4d7d-8c69-fb25f6b4f3d3",
   "metadata": {
    "editable": true,
    "slideshow": {
     "slide_type": ""
    },
    "tags": []
   },
   "outputs": [
    {
     "name": "stdout",
     "output_type": "stream",
     "text": [
      "Choose: ['t-shirt', 'mug', 'hat', 'book', 'keychain']\n"
     ]
    },
    {
     "name": "stdin",
     "output_type": "stream",
     "text": [
      "Enter the name of the product:  hat\n",
      "Do you want to add another product? (yes/no) no\n"
     ]
    },
    {
     "name": "stdout",
     "output_type": "stream",
     "text": [
      "{'hat'}\n"
     ]
    }
   ],
   "source": [
    "def get_customer_orders(products):    \n",
    "    customer_orders = set()\n",
    "    print(f\"Choose: {products}\")\n",
    "    \n",
    "    while True:\n",
    "        order = input(\"Enter the name of the product: \")\n",
    "        \n",
    "        if order in products:\n",
    "            customer_orders.add(order)\n",
    "        else:\n",
    "            print(f\"{order} is not available. Please select from the list.\")\n",
    "        \n",
    "        answer = input(\"Do you want to add another product? (yes/no)\" ).strip().lower()\n",
    "        if answer == \"no\":\n",
    "            break\n",
    "        elif answer != \"yes\":\n",
    "            print(\"Please enter yes or no\")\n",
    "    \n",
    "    return customer_orders\n",
    "\n",
    "print(get_customer_orders(products))"
   ]
  },
  {
   "cell_type": "code",
   "execution_count": 160,
   "id": "7efa43d7-11b8-402f-971c-d6cad8ac4437",
   "metadata": {
    "editable": true,
    "slideshow": {
     "slide_type": ""
    },
    "tags": []
   },
   "outputs": [
    {
     "name": "stdout",
     "output_type": "stream",
     "text": [
      "Order Statistics:\n",
      "Total products ordered: 1\n",
      "Percentage of products ordered: 20.00%\n"
     ]
    }
   ],
   "source": [
    "def calculate_order_statistics(customer_orders, products):\n",
    "    total_order = len(customer_orders)\n",
    "    percentage_ordered = (total_order / len(products))*100\n",
    "    return total_order, percentage_ordered\n",
    "\n",
    "def print_order_statistics (order_statistics): \n",
    "    total_order, percentage_ordered = order_statistics\n",
    "    print (\"Order Statistics:\")\n",
    "    print (f\"Total products ordered: {total_order}\")\n",
    "    print (f\"Percentage of products ordered: {percentage_ordered:.2f}%\")\n",
    "\n",
    "\n",
    " \n",
    "order_statistics = calculate_order_statistics(customer_orders, products)\n",
    "print_order_statistics(order_statistics)"
   ]
  },
  {
   "cell_type": "code",
   "execution_count": 164,
   "id": "7e4a50be-9060-4abe-a14f-6d4e690b5d82",
   "metadata": {
    "editable": true,
    "slideshow": {
     "slide_type": ""
    },
    "tags": []
   },
   "outputs": [
    {
     "name": "stdout",
     "output_type": "stream",
     "text": [
      "Updated inventory: \n",
      "t-shirt: 1\n",
      "mug: 11\n",
      "hat: 0\n",
      "book: 1\n",
      "keychain: 1\n"
     ]
    }
   ],
   "source": [
    "def updated_inventory(customer_orders,inventory):# update using customer_orders \n",
    "    for product in customer_orders:\n",
    "        if product in inventory:\n",
    "            if inventory[product] > 0:\n",
    "                inventory[product] -= 1\n",
    "            else:\n",
    "                print(f\"Sorry, {product} is out of stock.\")\n",
    "        \n",
    "\n",
    "\n",
    "def print_updated_inventory(inventory):\n",
    "    print (\"Updated inventory: \")\n",
    "    for product, quantity in inventory.items():\n",
    "        print(f\"{product}: {quantity}\")\n",
    "\n",
    "\n",
    "updated_inventory(customer_orders, inventory)\n",
    "print_updated_inventory(inventory)"
   ]
  },
  {
   "cell_type": "code",
   "execution_count": null,
   "id": "f2bf3122-7329-4b6e-99fd-ed13b2b9d9b9",
   "metadata": {},
   "outputs": [],
   "source": []
  }
 ],
 "metadata": {
  "kernelspec": {
   "display_name": "Python 3 (ipykernel)",
   "language": "python",
   "name": "python3"
  },
  "language_info": {
   "codemirror_mode": {
    "name": "ipython",
    "version": 3
   },
   "file_extension": ".py",
   "mimetype": "text/x-python",
   "name": "python",
   "nbconvert_exporter": "python",
   "pygments_lexer": "ipython3",
   "version": "3.12.4"
  }
 },
 "nbformat": 4,
 "nbformat_minor": 5
}
